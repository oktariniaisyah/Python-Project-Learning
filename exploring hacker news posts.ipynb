{
 "cells": [
  {
   "cell_type": "markdown",
   "metadata": {
    "collapsed": true
   },
   "source": [
    "# EXPLORING HACKER NEWS POSTS\n",
    "Hacker News is a site started by the startup incubator Y Combinator, where user-submitted posts are voted and commented upon, similar to reddit. Hacker News is extremely popular in technology and startup circles, and posts that make it to the top of Hacker News' listings can get hundreds of thousands of visitors as a result. \n",
    "\n",
    "We will learn how to analyze data and present the informative data from hacker news posts using python. Let's start!"
   ]
  },
  {
   "cell_type": "raw",
   "metadata": {},
   "source": [
    "# Open the file of Hacker News"
   ]
  },
  {
   "cell_type": "code",
   "execution_count": 3,
   "metadata": {
    "collapsed": false
   },
   "outputs": [
    {
     "data": {
      "text/plain": [
       "20100"
      ]
     },
     "execution_count": 3,
     "metadata": {},
     "output_type": "execute_result"
    }
   ],
   "source": [
    "opened_file = open('hacker_news.csv')\n",
    "from csv import reader\n",
    "read_file = reader(opened_file)\n",
    "hn = list(read_file)\n",
    "hn_header = hn[0]\n",
    "hn = hn[1:]\n",
    "len(hn)"
   ]
  },
  {
   "cell_type": "raw",
   "metadata": {},
   "source": [
    "# code the algorithm of explore dataset hacker news (hn), and separate the header row, because we will analyze the dataset."
   ]
  },
  {
   "cell_type": "code",
   "execution_count": 5,
   "metadata": {
    "collapsed": false
   },
   "outputs": [
    {
     "name": "stdout",
     "output_type": "stream",
     "text": [
      "['id', 'title', 'url', 'num_points', 'num_comments', 'author', 'created_at']\n",
      "\n",
      "\n",
      "['12224879', 'Interactive Dynamic Video', 'http://www.interactivedynamicvideo.com/', '386', '52', 'ne0phyte', '8/4/2016 11:52']\n",
      "['10975351', 'How to Use Open Source and Shut the Fuck Up at the Same Time', 'http://hueniverse.com/2016/01/26/how-to-use-open-source-and-shut-the-fuck-up-at-the-same-time/', '39', '10', 'josep2', '1/26/2016 19:30']\n",
      "['11964716', \"Florida DJs May Face Felony for April Fools' Water Joke\", 'http://www.thewire.com/entertainment/2013/04/florida-djs-april-fools-water-joke/63798/', '2', '1', 'vezycash', '6/23/2016 22:20']\n",
      "['11919867', 'Technology ventures: From Idea to Enterprise', 'https://www.amazon.com/Technology-Ventures-Enterprise-Thomas-Byers/dp/0073523429', '3', '1', 'hswarna', '6/17/2016 0:01']\n"
     ]
    }
   ],
   "source": [
    "def explore_data(dataset, start, end):\n",
    "    dataset_slice = dataset[start:end]\n",
    "    for row in dataset_slice:\n",
    "        print(row)\n",
    "\n",
    "print(hn_header)\n",
    "print('\\n')\n",
    "explore_data(hn, 0, 4)"
   ]
  },
  {
   "cell_type": "raw",
   "metadata": {},
   "source": [
    "# find post that begin with either Ask HN or Show HN"
   ]
  },
  {
   "cell_type": "code",
   "execution_count": 6,
   "metadata": {
    "collapsed": false
   },
   "outputs": [
    {
     "name": "stdout",
     "output_type": "stream",
     "text": [
      "Num Ask:  1744\n",
      "Num Show:  1165\n",
      "Num other:  17191\n"
     ]
    }
   ],
   "source": [
    "import re\n",
    "ask_posts = []\n",
    "show_posts = []\n",
    "other_posts = []\n",
    "\n",
    "ask_patt = r'^Ask HN'\n",
    "show_patt = r'Show HN'\n",
    "\n",
    "for row in hn:\n",
    "    title = row[1]\n",
    "    match1 = re.search(ask_patt, title, re.I)\n",
    "    match2 = re.search(show_patt, title, re.I)\n",
    "    if match1:\n",
    "        ask_posts.append(row)\n",
    "    elif match2:\n",
    "        show_posts.append(row)\n",
    "    else:\n",
    "        other_posts.append(row)\n",
    "        \n",
    "print('Num Ask: ',len(ask_posts)) \n",
    "print('Num Show: ',len(show_posts)) \n",
    "print('Num other: ',len(other_posts))"
   ]
  },
  {
   "cell_type": "raw",
   "metadata": {},
   "source": [
    "# Calculate the average number of comment for ask post and show post"
   ]
  },
  {
   "cell_type": "code",
   "execution_count": 7,
   "metadata": {
    "collapsed": false
   },
   "outputs": [
    {
     "name": "stdout",
     "output_type": "stream",
     "text": [
      "avg number of ask comment: 14.038417431192661\n",
      "avg number of show comment: 10.302145922746782\n"
     ]
    }
   ],
   "source": [
    "ask_comments = [int(row[4]) for row in ask_posts]\n",
    "show_comments = [int(row[4]) for row in show_posts]\n",
    "\n",
    "avg_ask_comments = sum(ask_comments)/len(ask_comments)\n",
    "avg_show_comments = sum(show_comments)/len(show_comments)\n",
    "\n",
    "print('avg number of ask comment:', avg_ask_comments)\n",
    "print('avg number of show comment:',avg_show_comments)\n"
   ]
  },
  {
   "cell_type": "raw",
   "metadata": {},
   "source": [
    "# Calculate the amount of ask posts created in each hour of the day, along with the number of comments received"
   ]
  },
  {
   "cell_type": "code",
   "execution_count": 8,
   "metadata": {
    "collapsed": false
   },
   "outputs": [],
   "source": [
    "import datetime as dt\n",
    "\n",
    "result_list = []\n",
    "for row in ask_posts:\n",
    "    created_at = row[6]\n",
    "    num_comments = int(row[4])\n",
    "    result_list.append([created_at, num_comments])\n",
    "\n",
    "counts_by_hour = {}\n",
    "comments_by_hour = {}\n",
    "\n",
    "for each in result_list:\n",
    "    hours = each[0]\n",
    "    dformat = '%m/%d/%Y %H:%M'\n",
    "    hours = dt.datetime.strptime(hours, dformat)\n",
    "    hours = dt.datetime.strftime(hours,'%H')\n",
    "    if hours in counts_by_hour:\n",
    "        counts_by_hour[hours] += 1\n",
    "        comments_by_hour[hours] += each[1]\n",
    "    else:\n",
    "        counts_by_hour[hours] = 1\n",
    "        comments_by_hour[hours] = each[1]\n"
   ]
  },
  {
   "cell_type": "raw",
   "metadata": {},
   "source": [
    "# Calculate the average number of comments ask posts receive by hour created"
   ]
  },
  {
   "cell_type": "code",
   "execution_count": 9,
   "metadata": {
    "collapsed": false
   },
   "outputs": [
    {
     "name": "stdout",
     "output_type": "stream",
     "text": [
      "[['10', 13.440677966101696], ['05', 10.08695652173913], ['03', 7.796296296296297], ['20', 21.525], ['18', 13.20183486238532], ['16', 16.796296296296298], ['00', 8.127272727272727], ['19', 10.8], ['13', 14.741176470588234], ['21', 16.009174311926607], ['14', 13.233644859813085], ['17', 11.46], ['06', 9.022727272727273], ['11', 11.051724137931034], ['22', 6.746478873239437], ['12', 9.41095890410959], ['02', 23.810344827586206], ['04', 7.170212765957447], ['08', 10.25], ['15', 38.5948275862069], ['01', 11.383333333333333], ['07', 7.852941176470588], ['09', 5.5777777777777775], ['23', 7.985294117647059]]\n"
     ]
    }
   ],
   "source": [
    "avg_by_hour = [[h, comments_by_hour[h]/counts_by_hour[h]] for h in counts_by_hour]\n",
    "\n",
    "print(avg_by_hour)"
   ]
  },
  {
   "cell_type": "raw",
   "metadata": {},
   "source": [
    "# swap position of average number list"
   ]
  },
  {
   "cell_type": "code",
   "execution_count": 10,
   "metadata": {
    "collapsed": false
   },
   "outputs": [
    {
     "name": "stdout",
     "output_type": "stream",
     "text": [
      "[[13.440677966101696, '10'], [10.08695652173913, '05'], [7.796296296296297, '03'], [21.525, '20'], [13.20183486238532, '18'], [16.796296296296298, '16'], [8.127272727272727, '00'], [10.8, '19'], [14.741176470588234, '13'], [16.009174311926607, '21'], [13.233644859813085, '14'], [11.46, '17'], [9.022727272727273, '06'], [11.051724137931034, '11'], [6.746478873239437, '22'], [9.41095890410959, '12'], [23.810344827586206, '02'], [7.170212765957447, '04'], [10.25, '08'], [38.5948275862069, '15'], [11.383333333333333, '01'], [7.852941176470588, '07'], [5.5777777777777775, '09'], [7.985294117647059, '23']]\n"
     ]
    }
   ],
   "source": [
    "swap_avg_by_hour = []\n",
    "for row in avg_by_hour:\n",
    "    swap_avg_by_hour.append([row[1], row[0]])\n",
    "print(swap_avg_by_hour)"
   ]
  },
  {
   "cell_type": "raw",
   "metadata": {},
   "source": [
    "# sorted the swap average number list and reverse it"
   ]
  },
  {
   "cell_type": "code",
   "execution_count": 102,
   "metadata": {
    "collapsed": false
   },
   "outputs": [
    {
     "name": "stdout",
     "output_type": "stream",
     "text": [
      "15:00 38.59 average comments per post\n",
      "02:00 23.81 average comments per post\n",
      "20:00 21.52 average comments per post\n",
      "16:00 16.8 average comments per post\n",
      "21:00 16.01 average comments per post\n",
      "13:00 14.74 average comments per post\n",
      "10:00 13.44 average comments per post\n",
      "14:00 13.23 average comments per post\n",
      "18:00 13.2 average comments per post\n",
      "17:00 11.46 average comments per post\n",
      "01:00 11.38 average comments per post\n",
      "11:00 11.05 average comments per post\n",
      "19:00 10.8 average comments per post\n",
      "08:00 10.25 average comments per post\n",
      "05:00 10.09 average comments per post\n",
      "12:00 9.41 average comments per post\n",
      "06:00 9.02 average comments per post\n",
      "00:00 8.13 average comments per post\n",
      "23:00 7.99 average comments per post\n",
      "07:00 7.85 average comments per post\n",
      "03:00 7.8 average comments per post\n",
      "04:00 7.17 average comments per post\n",
      "22:00 6.75 average comments per post\n",
      "09:00 5.58 average comments per post\n"
     ]
    }
   ],
   "source": [
    "sorted_swap = sorted(swap_avg_by_hour, reverse = True)\n",
    "\n",
    "for each in sorted_swap:\n",
    "    avg_com = each[0]\n",
    "    avg_com = float('{0:.2f}'.format(avg_com))\n",
    "    hour = each[1]\n",
    "    hour = dt.datetime.strptime(hour, '%H')\n",
    "    hour = dt.datetime.strftime(hour, '%H:%M')\n",
    "    print(hour, avg_com, 'average comments per post')\n",
    "    "
   ]
  },
  {
   "cell_type": "raw",
   "metadata": {
    "collapsed": true
   },
   "source": [
    "# Conclution\n",
    "So from the above data analysis, we can conclute that:\n",
    "1. 'Ask HN' type posts have receive more average number of comment than 'Show HN'\n",
    "2. The top five certain time to receive a lot of comments in Hacker News are \"15:00\",\"02:00\",\"20:00\",\"16:00\", and \"21:00\" hours."
   ]
  }
 ],
 "metadata": {
  "kernelspec": {
   "display_name": "Python 3",
   "language": "python",
   "name": "python3"
  },
  "language_info": {
   "codemirror_mode": {
    "name": "ipython",
    "version": 3
   },
   "file_extension": ".py",
   "mimetype": "text/x-python",
   "name": "python",
   "nbconvert_exporter": "python",
   "pygments_lexer": "ipython3",
   "version": "3.4.3"
  }
 },
 "nbformat": 4,
 "nbformat_minor": 2
}
